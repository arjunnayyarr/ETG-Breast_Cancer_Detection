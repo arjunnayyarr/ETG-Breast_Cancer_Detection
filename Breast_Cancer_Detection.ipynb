{
  "nbformat": 4,
  "nbformat_minor": 0,
  "metadata": {
    "colab": {
      "name": "Breast_Cancer_Detection",
      "provenance": []
    },
    "kernelspec": {
      "name": "python3",
      "display_name": "Python 3"
    },
    "language_info": {
      "name": "python"
    }
  },
  "cells": [
    {
      "cell_type": "code",
      "metadata": {
        "id": "k_Avq7-SiWvK"
      },
      "source": [
        "import pandas as pd\n",
        "import numpy as np\n",
        "\n",
        "from sklearn.datasets import load_breast_cancer\n",
        "from sklearn.preprocessing import StandardScaler\n",
        "\n",
        "from keras.models import Sequential\n",
        "from keras.layers import Dense"
      ],
      "execution_count": 1,
      "outputs": []
    },
    {
      "cell_type": "code",
      "metadata": {
        "id": "SW-y4QbAidjL"
      },
      "source": [
        "data = load_breast_cancer()"
      ],
      "execution_count": 3,
      "outputs": []
    },
    {
      "cell_type": "code",
      "metadata": {
        "colab": {
          "base_uri": "https://localhost:8080/"
        },
        "id": "2kkGvAQJihDP",
        "outputId": "2ced2774-8880-43e2-fefc-675cd2acafa4"
      },
      "source": [
        "data.keys()"
      ],
      "execution_count": 4,
      "outputs": [
        {
          "output_type": "execute_result",
          "data": {
            "text/plain": [
              "dict_keys(['data', 'target', 'target_names', 'DESCR', 'feature_names', 'filename'])"
            ]
          },
          "metadata": {},
          "execution_count": 4
        }
      ]
    },
    {
      "cell_type": "code",
      "metadata": {
        "colab": {
          "base_uri": "https://localhost:8080/"
        },
        "id": "8_1a3x4wikkW",
        "outputId": "451d175b-55f3-4088-b8f3-58171be6bdb4"
      },
      "source": [
        "print(data['DESCR'])"
      ],
      "execution_count": 5,
      "outputs": [
        {
          "output_type": "stream",
          "name": "stdout",
          "text": [
            ".. _breast_cancer_dataset:\n",
            "\n",
            "Breast cancer wisconsin (diagnostic) dataset\n",
            "--------------------------------------------\n",
            "\n",
            "**Data Set Characteristics:**\n",
            "\n",
            "    :Number of Instances: 569\n",
            "\n",
            "    :Number of Attributes: 30 numeric, predictive attributes and the class\n",
            "\n",
            "    :Attribute Information:\n",
            "        - radius (mean of distances from center to points on the perimeter)\n",
            "        - texture (standard deviation of gray-scale values)\n",
            "        - perimeter\n",
            "        - area\n",
            "        - smoothness (local variation in radius lengths)\n",
            "        - compactness (perimeter^2 / area - 1.0)\n",
            "        - concavity (severity of concave portions of the contour)\n",
            "        - concave points (number of concave portions of the contour)\n",
            "        - symmetry \n",
            "        - fractal dimension (\"coastline approximation\" - 1)\n",
            "\n",
            "        The mean, standard error, and \"worst\" or largest (mean of the three\n",
            "        largest values) of these features were computed for each image,\n",
            "        resulting in 30 features.  For instance, field 3 is Mean Radius, field\n",
            "        13 is Radius SE, field 23 is Worst Radius.\n",
            "\n",
            "        - class:\n",
            "                - WDBC-Malignant\n",
            "                - WDBC-Benign\n",
            "\n",
            "    :Summary Statistics:\n",
            "\n",
            "    ===================================== ====== ======\n",
            "                                           Min    Max\n",
            "    ===================================== ====== ======\n",
            "    radius (mean):                        6.981  28.11\n",
            "    texture (mean):                       9.71   39.28\n",
            "    perimeter (mean):                     43.79  188.5\n",
            "    area (mean):                          143.5  2501.0\n",
            "    smoothness (mean):                    0.053  0.163\n",
            "    compactness (mean):                   0.019  0.345\n",
            "    concavity (mean):                     0.0    0.427\n",
            "    concave points (mean):                0.0    0.201\n",
            "    symmetry (mean):                      0.106  0.304\n",
            "    fractal dimension (mean):             0.05   0.097\n",
            "    radius (standard error):              0.112  2.873\n",
            "    texture (standard error):             0.36   4.885\n",
            "    perimeter (standard error):           0.757  21.98\n",
            "    area (standard error):                6.802  542.2\n",
            "    smoothness (standard error):          0.002  0.031\n",
            "    compactness (standard error):         0.002  0.135\n",
            "    concavity (standard error):           0.0    0.396\n",
            "    concave points (standard error):      0.0    0.053\n",
            "    symmetry (standard error):            0.008  0.079\n",
            "    fractal dimension (standard error):   0.001  0.03\n",
            "    radius (worst):                       7.93   36.04\n",
            "    texture (worst):                      12.02  49.54\n",
            "    perimeter (worst):                    50.41  251.2\n",
            "    area (worst):                         185.2  4254.0\n",
            "    smoothness (worst):                   0.071  0.223\n",
            "    compactness (worst):                  0.027  1.058\n",
            "    concavity (worst):                    0.0    1.252\n",
            "    concave points (worst):               0.0    0.291\n",
            "    symmetry (worst):                     0.156  0.664\n",
            "    fractal dimension (worst):            0.055  0.208\n",
            "    ===================================== ====== ======\n",
            "\n",
            "    :Missing Attribute Values: None\n",
            "\n",
            "    :Class Distribution: 212 - Malignant, 357 - Benign\n",
            "\n",
            "    :Creator:  Dr. William H. Wolberg, W. Nick Street, Olvi L. Mangasarian\n",
            "\n",
            "    :Donor: Nick Street\n",
            "\n",
            "    :Date: November, 1995\n",
            "\n",
            "This is a copy of UCI ML Breast Cancer Wisconsin (Diagnostic) datasets.\n",
            "https://goo.gl/U2Uwz2\n",
            "\n",
            "Features are computed from a digitized image of a fine needle\n",
            "aspirate (FNA) of a breast mass.  They describe\n",
            "characteristics of the cell nuclei present in the image.\n",
            "\n",
            "Separating plane described above was obtained using\n",
            "Multisurface Method-Tree (MSM-T) [K. P. Bennett, \"Decision Tree\n",
            "Construction Via Linear Programming.\" Proceedings of the 4th\n",
            "Midwest Artificial Intelligence and Cognitive Science Society,\n",
            "pp. 97-101, 1992], a classification method which uses linear\n",
            "programming to construct a decision tree.  Relevant features\n",
            "were selected using an exhaustive search in the space of 1-4\n",
            "features and 1-3 separating planes.\n",
            "\n",
            "The actual linear program used to obtain the separating plane\n",
            "in the 3-dimensional space is that described in:\n",
            "[K. P. Bennett and O. L. Mangasarian: \"Robust Linear\n",
            "Programming Discrimination of Two Linearly Inseparable Sets\",\n",
            "Optimization Methods and Software 1, 1992, 23-34].\n",
            "\n",
            "This database is also available through the UW CS ftp server:\n",
            "\n",
            "ftp ftp.cs.wisc.edu\n",
            "cd math-prog/cpo-dataset/machine-learn/WDBC/\n",
            "\n",
            ".. topic:: References\n",
            "\n",
            "   - W.N. Street, W.H. Wolberg and O.L. Mangasarian. Nuclear feature extraction \n",
            "     for breast tumor diagnosis. IS&T/SPIE 1993 International Symposium on \n",
            "     Electronic Imaging: Science and Technology, volume 1905, pages 861-870,\n",
            "     San Jose, CA, 1993.\n",
            "   - O.L. Mangasarian, W.N. Street and W.H. Wolberg. Breast cancer diagnosis and \n",
            "     prognosis via linear programming. Operations Research, 43(4), pages 570-577, \n",
            "     July-August 1995.\n",
            "   - W.H. Wolberg, W.N. Street, and O.L. Mangasarian. Machine learning techniques\n",
            "     to diagnose breast cancer from fine-needle aspirates. Cancer Letters 77 (1994) \n",
            "     163-171.\n"
          ]
        }
      ]
    },
    {
      "cell_type": "code",
      "metadata": {
        "colab": {
          "base_uri": "https://localhost:8080/"
        },
        "id": "N3vXZDM0ippi",
        "outputId": "ca472bef-651f-4e52-f4d0-75c3a4cf8830"
      },
      "source": [
        "data['data'].shape"
      ],
      "execution_count": 6,
      "outputs": [
        {
          "output_type": "execute_result",
          "data": {
            "text/plain": [
              "(569, 30)"
            ]
          },
          "metadata": {},
          "execution_count": 6
        }
      ]
    },
    {
      "cell_type": "code",
      "metadata": {
        "colab": {
          "base_uri": "https://localhost:8080/"
        },
        "id": "mQTHn8MPit75",
        "outputId": "c7016b44-e2f5-4863-cf11-50dde9aeb74a"
      },
      "source": [
        "data['feature_names']"
      ],
      "execution_count": 7,
      "outputs": [
        {
          "output_type": "execute_result",
          "data": {
            "text/plain": [
              "array(['mean radius', 'mean texture', 'mean perimeter', 'mean area',\n",
              "       'mean smoothness', 'mean compactness', 'mean concavity',\n",
              "       'mean concave points', 'mean symmetry', 'mean fractal dimension',\n",
              "       'radius error', 'texture error', 'perimeter error', 'area error',\n",
              "       'smoothness error', 'compactness error', 'concavity error',\n",
              "       'concave points error', 'symmetry error',\n",
              "       'fractal dimension error', 'worst radius', 'worst texture',\n",
              "       'worst perimeter', 'worst area', 'worst smoothness',\n",
              "       'worst compactness', 'worst concavity', 'worst concave points',\n",
              "       'worst symmetry', 'worst fractal dimension'], dtype='<U23')"
            ]
          },
          "metadata": {},
          "execution_count": 7
        }
      ]
    },
    {
      "cell_type": "code",
      "metadata": {
        "colab": {
          "base_uri": "https://localhost:8080/"
        },
        "id": "Y83i0RtbizfC",
        "outputId": "2b9a5035-e0a0-4653-c14a-f5e4e285c257"
      },
      "source": [
        "data['data'][0]"
      ],
      "execution_count": 8,
      "outputs": [
        {
          "output_type": "execute_result",
          "data": {
            "text/plain": [
              "array([1.799e+01, 1.038e+01, 1.228e+02, 1.001e+03, 1.184e-01, 2.776e-01,\n",
              "       3.001e-01, 1.471e-01, 2.419e-01, 7.871e-02, 1.095e+00, 9.053e-01,\n",
              "       8.589e+00, 1.534e+02, 6.399e-03, 4.904e-02, 5.373e-02, 1.587e-02,\n",
              "       3.003e-02, 6.193e-03, 2.538e+01, 1.733e+01, 1.846e+02, 2.019e+03,\n",
              "       1.622e-01, 6.656e-01, 7.119e-01, 2.654e-01, 4.601e-01, 1.189e-01])"
            ]
          },
          "metadata": {},
          "execution_count": 8
        }
      ]
    },
    {
      "cell_type": "code",
      "metadata": {
        "colab": {
          "base_uri": "https://localhost:8080/"
        },
        "id": "RkPNXNM9i36n",
        "outputId": "86731ee2-7635-4e52-d2a1-f39a11aa6464"
      },
      "source": [
        "j = 0\n",
        "for i in data['feature_names']:\n",
        "  print(i,\":\",data['data'][0][j])\n",
        "  j+=1"
      ],
      "execution_count": 9,
      "outputs": [
        {
          "output_type": "stream",
          "name": "stdout",
          "text": [
            "mean radius : 17.99\n",
            "mean texture : 10.38\n",
            "mean perimeter : 122.8\n",
            "mean area : 1001.0\n",
            "mean smoothness : 0.1184\n",
            "mean compactness : 0.2776\n",
            "mean concavity : 0.3001\n",
            "mean concave points : 0.1471\n",
            "mean symmetry : 0.2419\n",
            "mean fractal dimension : 0.07871\n",
            "radius error : 1.095\n",
            "texture error : 0.9053\n",
            "perimeter error : 8.589\n",
            "area error : 153.4\n",
            "smoothness error : 0.006399\n",
            "compactness error : 0.04904\n",
            "concavity error : 0.05373\n",
            "concave points error : 0.01587\n",
            "symmetry error : 0.03003\n",
            "fractal dimension error : 0.006193\n",
            "worst radius : 25.38\n",
            "worst texture : 17.33\n",
            "worst perimeter : 184.6\n",
            "worst area : 2019.0\n",
            "worst smoothness : 0.1622\n",
            "worst compactness : 0.6656\n",
            "worst concavity : 0.7119\n",
            "worst concave points : 0.2654\n",
            "worst symmetry : 0.4601\n",
            "worst fractal dimension : 0.1189\n"
          ]
        }
      ]
    },
    {
      "cell_type": "code",
      "metadata": {
        "id": "dy4RrtKRi7R1"
      },
      "source": [
        "feature = data['data']"
      ],
      "execution_count": 10,
      "outputs": []
    },
    {
      "cell_type": "code",
      "metadata": {
        "id": "8myDMrUZi-T6"
      },
      "source": [
        "label = data['target']"
      ],
      "execution_count": 12,
      "outputs": []
    },
    {
      "cell_type": "code",
      "metadata": {
        "colab": {
          "base_uri": "https://localhost:8080/"
        },
        "id": "K2LGSQ5njBJZ",
        "outputId": "a0e5e5b4-6227-4819-d247-aeedbda53da9"
      },
      "source": [
        "data['target_names']"
      ],
      "execution_count": 13,
      "outputs": [
        {
          "output_type": "execute_result",
          "data": {
            "text/plain": [
              "array(['malignant', 'benign'], dtype='<U9')"
            ]
          },
          "metadata": {},
          "execution_count": 13
        }
      ]
    },
    {
      "cell_type": "code",
      "metadata": {
        "colab": {
          "base_uri": "https://localhost:8080/"
        },
        "id": "c-4Gz1mZjFz6",
        "outputId": "f2610f59-50a4-4ea6-81c3-56ca7dfc0f74"
      },
      "source": [
        "feature.shape"
      ],
      "execution_count": 14,
      "outputs": [
        {
          "output_type": "execute_result",
          "data": {
            "text/plain": [
              "(569, 30)"
            ]
          },
          "metadata": {},
          "execution_count": 14
        }
      ]
    },
    {
      "cell_type": "code",
      "metadata": {
        "colab": {
          "base_uri": "https://localhost:8080/"
        },
        "id": "E87kNflQjIqu",
        "outputId": "7ecd6958-64fa-499e-e9ed-090c3ed6efde"
      },
      "source": [
        "label.shape"
      ],
      "execution_count": 15,
      "outputs": [
        {
          "output_type": "execute_result",
          "data": {
            "text/plain": [
              "(569,)"
            ]
          },
          "metadata": {},
          "execution_count": 15
        }
      ]
    },
    {
      "cell_type": "code",
      "metadata": {
        "id": "cPi3d3lejLZP"
      },
      "source": [
        "scale = StandardScaler()\n",
        "\n",
        "feature = scale.fit_transform(feature)"
      ],
      "execution_count": 16,
      "outputs": []
    },
    {
      "cell_type": "code",
      "metadata": {
        "colab": {
          "base_uri": "https://localhost:8080/"
        },
        "id": "wDUKQ6c7jPgz",
        "outputId": "3f7e3d70-6d5e-4173-d5ac-7c70c4928eaa"
      },
      "source": [
        "j = 0\n",
        "for i in data['feature_names']:\n",
        "  print(i,\":\",feature[0][j])\n",
        "  j+=1"
      ],
      "execution_count": 17,
      "outputs": [
        {
          "output_type": "stream",
          "name": "stdout",
          "text": [
            "mean radius : 1.0970639814699807\n",
            "mean texture : -2.0733350146975935\n",
            "mean perimeter : 1.2699336881399383\n",
            "mean area : 0.9843749048031144\n",
            "mean smoothness : 1.568466329243428\n",
            "mean compactness : 3.2835146709868264\n",
            "mean concavity : 2.652873983743168\n",
            "mean concave points : 2.532475216403245\n",
            "mean symmetry : 2.2175150059646405\n",
            "mean fractal dimension : 2.255746885296269\n",
            "radius error : 2.4897339267376193\n",
            "texture error : -0.5652650590684639\n",
            "perimeter error : 2.833030865855184\n",
            "area error : 2.4875775569611043\n",
            "smoothness error : -0.21400164666895383\n",
            "compactness error : 1.3168615683959484\n",
            "concavity error : 0.72402615808036\n",
            "concave points error : 0.6608199414286064\n",
            "symmetry error : 1.1487566671861758\n",
            "fractal dimension error : 0.9070830809973359\n",
            "worst radius : 1.8866896251792757\n",
            "worst texture : -1.3592934737640827\n",
            "worst perimeter : 2.3036006236225606\n",
            "worst area : 2.0012374893299207\n",
            "worst smoothness : 1.3076862710715387\n",
            "worst compactness : 2.616665023512603\n",
            "worst concavity : 2.1095263465722556\n",
            "worst concave points : 2.296076127561788\n",
            "worst symmetry : 2.750622244124955\n",
            "worst fractal dimension : 1.9370146123781782\n"
          ]
        }
      ]
    },
    {
      "cell_type": "code",
      "metadata": {
        "colab": {
          "base_uri": "https://localhost:8080/"
        },
        "id": "S4GbthQajSRT",
        "outputId": "31583958-1faf-463e-8e02-229bfa34a77c"
      },
      "source": [
        "print(feature[568])\n",
        "print(data['target_names'][label[568]],label[568])"
      ],
      "execution_count": 18,
      "outputs": [
        {
          "output_type": "stream",
          "name": "stdout",
          "text": [
            "[-1.80840125  1.22179204 -1.81438851 -1.34778924 -3.11208479 -1.15075248\n",
            " -1.11487284 -1.26181958 -0.8200699  -0.56103238 -0.07027874  0.3830925\n",
            " -0.15744905 -0.46615196  0.04934236 -1.16351619 -1.05750068 -1.91344745\n",
            "  0.75282996 -0.382754   -1.41089258  0.76418957 -1.43273495 -1.07581292\n",
            " -1.85901852 -1.2075525  -1.30583065 -1.74506282 -0.04813821 -0.75120669]\n",
            "benign 1\n"
          ]
        }
      ]
    },
    {
      "cell_type": "code",
      "metadata": {
        "id": "lpsdnM0IjVtC"
      },
      "source": [
        "df_frt = pd.DataFrame(feature , columns = data['feature_names'])\n",
        "df_lbl = pd.DataFrame(label , columns = ['label'])\n",
        "df = pd.concat([df_frt, df_lbl], axis=1)\n",
        "df = df.sample(frac = 1)\n",
        "\n",
        "feature = df.values[ : , : 30]\n",
        "label = df.values[ : ,30: ]"
      ],
      "execution_count": 19,
      "outputs": []
    },
    {
      "cell_type": "code",
      "metadata": {
        "colab": {
          "base_uri": "https://localhost:8080/",
          "height": 473
        },
        "id": "NHdPmFBQjZFD",
        "outputId": "8503fec2-9f49-44f0-a59e-6023c58224da"
      },
      "source": [
        "df"
      ],
      "execution_count": 20,
      "outputs": [
        {
          "output_type": "execute_result",
          "data": {
            "text/html": [
              "<div>\n",
              "<style scoped>\n",
              "    .dataframe tbody tr th:only-of-type {\n",
              "        vertical-align: middle;\n",
              "    }\n",
              "\n",
              "    .dataframe tbody tr th {\n",
              "        vertical-align: top;\n",
              "    }\n",
              "\n",
              "    .dataframe thead th {\n",
              "        text-align: right;\n",
              "    }\n",
              "</style>\n",
              "<table border=\"1\" class=\"dataframe\">\n",
              "  <thead>\n",
              "    <tr style=\"text-align: right;\">\n",
              "      <th></th>\n",
              "      <th>mean radius</th>\n",
              "      <th>mean texture</th>\n",
              "      <th>mean perimeter</th>\n",
              "      <th>mean area</th>\n",
              "      <th>mean smoothness</th>\n",
              "      <th>mean compactness</th>\n",
              "      <th>mean concavity</th>\n",
              "      <th>mean concave points</th>\n",
              "      <th>mean symmetry</th>\n",
              "      <th>mean fractal dimension</th>\n",
              "      <th>radius error</th>\n",
              "      <th>texture error</th>\n",
              "      <th>perimeter error</th>\n",
              "      <th>area error</th>\n",
              "      <th>smoothness error</th>\n",
              "      <th>compactness error</th>\n",
              "      <th>concavity error</th>\n",
              "      <th>concave points error</th>\n",
              "      <th>symmetry error</th>\n",
              "      <th>fractal dimension error</th>\n",
              "      <th>worst radius</th>\n",
              "      <th>worst texture</th>\n",
              "      <th>worst perimeter</th>\n",
              "      <th>worst area</th>\n",
              "      <th>worst smoothness</th>\n",
              "      <th>worst compactness</th>\n",
              "      <th>worst concavity</th>\n",
              "      <th>worst concave points</th>\n",
              "      <th>worst symmetry</th>\n",
              "      <th>worst fractal dimension</th>\n",
              "      <th>label</th>\n",
              "    </tr>\n",
              "  </thead>\n",
              "  <tbody>\n",
              "    <tr>\n",
              "      <th>276</th>\n",
              "      <td>-0.794471</td>\n",
              "      <td>-1.193704</td>\n",
              "      <td>-0.831178</td>\n",
              "      <td>-0.734601</td>\n",
              "      <td>-0.182915</td>\n",
              "      <td>-1.243615</td>\n",
              "      <td>-1.096204</td>\n",
              "      <td>-1.175848</td>\n",
              "      <td>0.519826</td>\n",
              "      <td>-0.650341</td>\n",
              "      <td>-0.605164</td>\n",
              "      <td>0.114570</td>\n",
              "      <td>-0.644064</td>\n",
              "      <td>-0.511475</td>\n",
              "      <td>0.461692</td>\n",
              "      <td>-0.921067</td>\n",
              "      <td>-1.008196</td>\n",
              "      <td>-1.372803</td>\n",
              "      <td>0.367800</td>\n",
              "      <td>-0.820013</td>\n",
              "      <td>-0.842658</td>\n",
              "      <td>-1.088973</td>\n",
              "      <td>-0.890335</td>\n",
              "      <td>-0.742864</td>\n",
              "      <td>-0.283557</td>\n",
              "      <td>-1.150045</td>\n",
              "      <td>-1.282059</td>\n",
              "      <td>-1.575895</td>\n",
              "      <td>-0.230947</td>\n",
              "      <td>-1.113072</td>\n",
              "      <td>1</td>\n",
              "    </tr>\n",
              "    <tr>\n",
              "      <th>36</th>\n",
              "      <td>0.034851</td>\n",
              "      <td>0.565559</td>\n",
              "      <td>0.068416</td>\n",
              "      <td>-0.062255</td>\n",
              "      <td>0.133059</td>\n",
              "      <td>0.103456</td>\n",
              "      <td>0.541128</td>\n",
              "      <td>0.182128</td>\n",
              "      <td>0.267911</td>\n",
              "      <td>-0.219390</td>\n",
              "      <td>-0.430117</td>\n",
              "      <td>-0.358974</td>\n",
              "      <td>-0.103491</td>\n",
              "      <td>-0.339422</td>\n",
              "      <td>-0.387675</td>\n",
              "      <td>0.249930</td>\n",
              "      <td>0.539010</td>\n",
              "      <td>-0.030193</td>\n",
              "      <td>-0.031759</td>\n",
              "      <td>0.085899</td>\n",
              "      <td>-0.078524</td>\n",
              "      <td>0.762561</td>\n",
              "      <td>0.266249</td>\n",
              "      <td>-0.142361</td>\n",
              "      <td>0.536175</td>\n",
              "      <td>1.078479</td>\n",
              "      <td>1.182165</td>\n",
              "      <td>0.458226</td>\n",
              "      <td>1.116664</td>\n",
              "      <td>0.967238</td>\n",
              "      <td>0</td>\n",
              "    </tr>\n",
              "    <tr>\n",
              "      <th>169</th>\n",
              "      <td>0.239341</td>\n",
              "      <td>-0.544452</td>\n",
              "      <td>0.175098</td>\n",
              "      <td>0.088198</td>\n",
              "      <td>0.155832</td>\n",
              "      <td>-0.483092</td>\n",
              "      <td>-0.788192</td>\n",
              "      <td>-0.286549</td>\n",
              "      <td>-0.115438</td>\n",
              "      <td>-0.892752</td>\n",
              "      <td>-0.483172</td>\n",
              "      <td>0.000266</td>\n",
              "      <td>-0.481694</td>\n",
              "      <td>-0.353283</td>\n",
              "      <td>-0.653686</td>\n",
              "      <td>-0.658275</td>\n",
              "      <td>-0.816250</td>\n",
              "      <td>-0.441719</td>\n",
              "      <td>-0.852671</td>\n",
              "      <td>-0.790131</td>\n",
              "      <td>-0.032965</td>\n",
              "      <td>-0.435969</td>\n",
              "      <td>-0.079266</td>\n",
              "      <td>-0.152733</td>\n",
              "      <td>-0.472051</td>\n",
              "      <td>-0.576120</td>\n",
              "      <td>-0.986891</td>\n",
              "      <td>-0.453086</td>\n",
              "      <td>-0.803642</td>\n",
              "      <td>-1.089797</td>\n",
              "      <td>1</td>\n",
              "    </tr>\n",
              "    <tr>\n",
              "      <th>381</th>\n",
              "      <td>-0.876835</td>\n",
              "      <td>-1.014519</td>\n",
              "      <td>-0.877311</td>\n",
              "      <td>-0.802575</td>\n",
              "      <td>-1.173538</td>\n",
              "      <td>-0.635841</td>\n",
              "      <td>-0.669674</td>\n",
              "      <td>-0.726852</td>\n",
              "      <td>0.698723</td>\n",
              "      <td>-0.047860</td>\n",
              "      <td>-0.869719</td>\n",
              "      <td>-0.337202</td>\n",
              "      <td>-0.784653</td>\n",
              "      <td>-0.630505</td>\n",
              "      <td>-0.581683</td>\n",
              "      <td>-0.360384</td>\n",
              "      <td>-0.486205</td>\n",
              "      <td>-0.784468</td>\n",
              "      <td>-0.210955</td>\n",
              "      <td>-0.701242</td>\n",
              "      <td>-0.865437</td>\n",
              "      <td>-0.789340</td>\n",
              "      <td>-0.820040</td>\n",
              "      <td>-0.762026</td>\n",
              "      <td>-1.002465</td>\n",
              "      <td>-0.356652</td>\n",
              "      <td>-0.560775</td>\n",
              "      <td>-0.716658</td>\n",
              "      <td>0.487347</td>\n",
              "      <td>-0.613775</td>\n",
              "      <td>1</td>\n",
              "    </tr>\n",
              "    <tr>\n",
              "      <th>64</th>\n",
              "      <td>-0.411051</td>\n",
              "      <td>1.058897</td>\n",
              "      <td>-0.382205</td>\n",
              "      <td>-0.443365</td>\n",
              "      <td>1.127241</td>\n",
              "      <td>0.414261</td>\n",
              "      <td>0.301328</td>\n",
              "      <td>0.511001</td>\n",
              "      <td>0.340930</td>\n",
              "      <td>0.439796</td>\n",
              "      <td>0.073368</td>\n",
              "      <td>-0.070493</td>\n",
              "      <td>0.030168</td>\n",
              "      <td>-0.085302</td>\n",
              "      <td>0.246684</td>\n",
              "      <td>0.055994</td>\n",
              "      <td>-0.071742</td>\n",
              "      <td>0.179057</td>\n",
              "      <td>-0.507597</td>\n",
              "      <td>-0.073344</td>\n",
              "      <td>0.169975</td>\n",
              "      <td>1.269005</td>\n",
              "      <td>0.135192</td>\n",
              "      <td>0.013566</td>\n",
              "      <td>2.311528</td>\n",
              "      <td>0.965882</td>\n",
              "      <td>0.624693</td>\n",
              "      <td>0.867821</td>\n",
              "      <td>0.780165</td>\n",
              "      <td>1.061445</td>\n",
              "      <td>0</td>\n",
              "    </tr>\n",
              "    <tr>\n",
              "      <th>...</th>\n",
              "      <td>...</td>\n",
              "      <td>...</td>\n",
              "      <td>...</td>\n",
              "      <td>...</td>\n",
              "      <td>...</td>\n",
              "      <td>...</td>\n",
              "      <td>...</td>\n",
              "      <td>...</td>\n",
              "      <td>...</td>\n",
              "      <td>...</td>\n",
              "      <td>...</td>\n",
              "      <td>...</td>\n",
              "      <td>...</td>\n",
              "      <td>...</td>\n",
              "      <td>...</td>\n",
              "      <td>...</td>\n",
              "      <td>...</td>\n",
              "      <td>...</td>\n",
              "      <td>...</td>\n",
              "      <td>...</td>\n",
              "      <td>...</td>\n",
              "      <td>...</td>\n",
              "      <td>...</td>\n",
              "      <td>...</td>\n",
              "      <td>...</td>\n",
              "      <td>...</td>\n",
              "      <td>...</td>\n",
              "      <td>...</td>\n",
              "      <td>...</td>\n",
              "      <td>...</td>\n",
              "      <td>...</td>\n",
              "    </tr>\n",
              "    <tr>\n",
              "      <th>152</th>\n",
              "      <td>-1.248609</td>\n",
              "      <td>-0.919110</td>\n",
              "      <td>-1.161112</td>\n",
              "      <td>-1.008772</td>\n",
              "      <td>0.771413</td>\n",
              "      <td>1.052926</td>\n",
              "      <td>4.042709</td>\n",
              "      <td>0.764814</td>\n",
              "      <td>2.688487</td>\n",
              "      <td>4.275833</td>\n",
              "      <td>1.513443</td>\n",
              "      <td>2.625622</td>\n",
              "      <td>0.597473</td>\n",
              "      <td>0.209301</td>\n",
              "      <td>1.309727</td>\n",
              "      <td>3.933610</td>\n",
              "      <td>12.072680</td>\n",
              "      <td>6.649601</td>\n",
              "      <td>1.806213</td>\n",
              "      <td>9.851593</td>\n",
              "      <td>-1.087016</td>\n",
              "      <td>-1.007551</td>\n",
              "      <td>-1.078879</td>\n",
              "      <td>-0.879102</td>\n",
              "      <td>-0.138898</td>\n",
              "      <td>0.145898</td>\n",
              "      <td>2.635815</td>\n",
              "      <td>0.647036</td>\n",
              "      <td>0.335276</td>\n",
              "      <td>2.324925</td>\n",
              "      <td>1</td>\n",
              "    </tr>\n",
              "    <tr>\n",
              "      <th>210</th>\n",
              "      <td>1.832661</td>\n",
              "      <td>0.663296</td>\n",
              "      <td>1.760097</td>\n",
              "      <td>1.806321</td>\n",
              "      <td>-0.388583</td>\n",
              "      <td>0.577243</td>\n",
              "      <td>0.944142</td>\n",
              "      <td>1.204343</td>\n",
              "      <td>-0.170202</td>\n",
              "      <td>-1.780172</td>\n",
              "      <td>1.641930</td>\n",
              "      <td>0.477438</td>\n",
              "      <td>2.060783</td>\n",
              "      <td>1.570106</td>\n",
              "      <td>0.361022</td>\n",
              "      <td>0.594210</td>\n",
              "      <td>0.762488</td>\n",
              "      <td>2.571650</td>\n",
              "      <td>1.358222</td>\n",
              "      <td>-0.540863</td>\n",
              "      <td>1.443533</td>\n",
              "      <td>0.352195</td>\n",
              "      <td>1.520233</td>\n",
              "      <td>1.363115</td>\n",
              "      <td>-0.638627</td>\n",
              "      <td>0.240047</td>\n",
              "      <td>0.546493</td>\n",
              "      <td>1.178444</td>\n",
              "      <td>0.013337</td>\n",
              "      <td>-1.401788</td>\n",
              "      <td>0</td>\n",
              "    </tr>\n",
              "    <tr>\n",
              "      <th>392</th>\n",
              "      <td>0.387028</td>\n",
              "      <td>0.158322</td>\n",
              "      <td>0.429654</td>\n",
              "      <td>0.255431</td>\n",
              "      <td>1.397669</td>\n",
              "      <td>0.982805</td>\n",
              "      <td>1.259272</td>\n",
              "      <td>1.088786</td>\n",
              "      <td>0.428553</td>\n",
              "      <td>0.658107</td>\n",
              "      <td>0.872808</td>\n",
              "      <td>0.207101</td>\n",
              "      <td>0.895481</td>\n",
              "      <td>0.584650</td>\n",
              "      <td>0.076010</td>\n",
              "      <td>0.212484</td>\n",
              "      <td>0.591066</td>\n",
              "      <td>0.745169</td>\n",
              "      <td>-0.244857</td>\n",
              "      <td>0.165332</td>\n",
              "      <td>1.021085</td>\n",
              "      <td>0.607860</td>\n",
              "      <td>1.037702</td>\n",
              "      <td>0.841015</td>\n",
              "      <td>1.566318</td>\n",
              "      <td>0.871734</td>\n",
              "      <td>1.358234</td>\n",
              "      <td>1.484498</td>\n",
              "      <td>0.463080</td>\n",
              "      <td>0.994946</td>\n",
              "      <td>0</td>\n",
              "    </tr>\n",
              "    <tr>\n",
              "      <th>157</th>\n",
              "      <td>0.770448</td>\n",
              "      <td>0.039642</td>\n",
              "      <td>0.676795</td>\n",
              "      <td>0.640807</td>\n",
              "      <td>-1.559255</td>\n",
              "      <td>-0.608551</td>\n",
              "      <td>-0.468292</td>\n",
              "      <td>-0.547068</td>\n",
              "      <td>0.118223</td>\n",
              "      <td>-1.434276</td>\n",
              "      <td>0.266100</td>\n",
              "      <td>1.529758</td>\n",
              "      <td>0.303424</td>\n",
              "      <td>0.138015</td>\n",
              "      <td>-1.199375</td>\n",
              "      <td>0.063259</td>\n",
              "      <td>-0.044222</td>\n",
              "      <td>-0.112920</td>\n",
              "      <td>-0.646838</td>\n",
              "      <td>-0.860864</td>\n",
              "      <td>0.403979</td>\n",
              "      <td>0.389649</td>\n",
              "      <td>0.388371</td>\n",
              "      <td>0.266178</td>\n",
              "      <td>-1.956334</td>\n",
              "      <td>-0.529682</td>\n",
              "      <td>-0.402937</td>\n",
              "      <td>-0.460547</td>\n",
              "      <td>-0.604655</td>\n",
              "      <td>-1.342493</td>\n",
              "      <td>1</td>\n",
              "    </tr>\n",
              "    <tr>\n",
              "      <th>43</th>\n",
              "      <td>-0.240643</td>\n",
              "      <td>0.230461</td>\n",
              "      <td>-0.191495</td>\n",
              "      <td>-0.311967</td>\n",
              "      <td>0.550801</td>\n",
              "      <td>0.744016</td>\n",
              "      <td>0.121415</td>\n",
              "      <td>0.326574</td>\n",
              "      <td>0.592845</td>\n",
              "      <td>0.711976</td>\n",
              "      <td>-0.125500</td>\n",
              "      <td>-0.711138</td>\n",
              "      <td>-0.217348</td>\n",
              "      <td>-0.198171</td>\n",
              "      <td>-0.656353</td>\n",
              "      <td>-0.224013</td>\n",
              "      <td>-0.333020</td>\n",
              "      <td>-0.362723</td>\n",
              "      <td>-0.405891</td>\n",
              "      <td>-0.180768</td>\n",
              "      <td>0.230029</td>\n",
              "      <td>0.378250</td>\n",
              "      <td>0.173913</td>\n",
              "      <td>0.046790</td>\n",
              "      <td>0.904396</td>\n",
              "      <td>0.751503</td>\n",
              "      <td>0.451982</td>\n",
              "      <td>0.526746</td>\n",
              "      <td>1.356095</td>\n",
              "      <td>1.039278</td>\n",
              "      <td>0</td>\n",
              "    </tr>\n",
              "  </tbody>\n",
              "</table>\n",
              "<p>569 rows × 31 columns</p>\n",
              "</div>"
            ],
            "text/plain": [
              "     mean radius  mean texture  ...  worst fractal dimension  label\n",
              "276    -0.794471     -1.193704  ...                -1.113072      1\n",
              "36      0.034851      0.565559  ...                 0.967238      0\n",
              "169     0.239341     -0.544452  ...                -1.089797      1\n",
              "381    -0.876835     -1.014519  ...                -0.613775      1\n",
              "64     -0.411051      1.058897  ...                 1.061445      0\n",
              "..           ...           ...  ...                      ...    ...\n",
              "152    -1.248609     -0.919110  ...                 2.324925      1\n",
              "210     1.832661      0.663296  ...                -1.401788      0\n",
              "392     0.387028      0.158322  ...                 0.994946      0\n",
              "157     0.770448      0.039642  ...                -1.342493      1\n",
              "43     -0.240643      0.230461  ...                 1.039278      0\n",
              "\n",
              "[569 rows x 31 columns]"
            ]
          },
          "metadata": {},
          "execution_count": 20
        }
      ]
    },
    {
      "cell_type": "code",
      "metadata": {
        "id": "UfPAflKTjbXi"
      },
      "source": [
        "#500 Training\n",
        "X_train = feature[:500]\n",
        "y_train = label[:500]\n",
        "\n",
        "#35 Validation\n",
        "X_val = feature[500:535]\n",
        "y_val = label[500:535]\n",
        "\n",
        "#34 Testing\n",
        "X_test = feature[535:]\n",
        "y_test = label[535:]"
      ],
      "execution_count": 21,
      "outputs": []
    },
    {
      "cell_type": "code",
      "metadata": {
        "id": "o-983ps9jedz"
      },
      "source": [
        "model = Sequential()\n",
        "\n",
        "model.add(Dense(32, activation = 'relu', input_dim = 30))\n",
        "model.add(Dense(64, activation = 'relu'))\n",
        "model.add(Dense(128, activation = 'relu'))\n",
        "model.add(Dense(64, activation = 'relu'))\n",
        "model.add(Dense(32, activation = 'relu'))\n",
        "model.add(Dense(1, activation = 'sigmoid'))\n",
        "\n",
        "model.compile( loss = 'binary_crossentropy' , optimizer = 'adam' , metrics = ['accuracy'])"
      ],
      "execution_count": 22,
      "outputs": []
    },
    {
      "cell_type": "code",
      "metadata": {
        "colab": {
          "base_uri": "https://localhost:8080/"
        },
        "id": "EXH6iSk3jh4w",
        "outputId": "7438dc13-d9df-4ce5-c0ad-103613d15acc"
      },
      "source": [
        "model.fit( X_train , y_train, epochs = 10, batch_size = 5, validation_data = (X_val, y_val))"
      ],
      "execution_count": 23,
      "outputs": [
        {
          "output_type": "stream",
          "name": "stdout",
          "text": [
            "Epoch 1/10\n",
            "100/100 [==============================] - 1s 4ms/step - loss: 0.2575 - accuracy: 0.9000 - val_loss: 0.1514 - val_accuracy: 0.9429\n",
            "Epoch 2/10\n",
            "100/100 [==============================] - 0s 2ms/step - loss: 0.0981 - accuracy: 0.9640 - val_loss: 0.0174 - val_accuracy: 1.0000\n",
            "Epoch 3/10\n",
            "100/100 [==============================] - 0s 2ms/step - loss: 0.0599 - accuracy: 0.9800 - val_loss: 0.0515 - val_accuracy: 0.9714\n",
            "Epoch 4/10\n",
            "100/100 [==============================] - 0s 2ms/step - loss: 0.0457 - accuracy: 0.9880 - val_loss: 0.0474 - val_accuracy: 0.9714\n",
            "Epoch 5/10\n",
            "100/100 [==============================] - 0s 2ms/step - loss: 0.0334 - accuracy: 0.9880 - val_loss: 0.0087 - val_accuracy: 1.0000\n",
            "Epoch 6/10\n",
            "100/100 [==============================] - 0s 2ms/step - loss: 0.0302 - accuracy: 0.9920 - val_loss: 0.0322 - val_accuracy: 1.0000\n",
            "Epoch 7/10\n",
            "100/100 [==============================] - 0s 2ms/step - loss: 0.0269 - accuracy: 0.9920 - val_loss: 0.1561 - val_accuracy: 0.9714\n",
            "Epoch 8/10\n",
            "100/100 [==============================] - 0s 2ms/step - loss: 0.0601 - accuracy: 0.9920 - val_loss: 0.0204 - val_accuracy: 1.0000\n",
            "Epoch 9/10\n",
            "100/100 [==============================] - 0s 2ms/step - loss: 0.0408 - accuracy: 0.9840 - val_loss: 0.0366 - val_accuracy: 1.0000\n",
            "Epoch 10/10\n",
            "100/100 [==============================] - 0s 2ms/step - loss: 0.0167 - accuracy: 0.9960 - val_loss: 0.0229 - val_accuracy: 1.0000\n"
          ]
        },
        {
          "output_type": "execute_result",
          "data": {
            "text/plain": [
              "<keras.callbacks.History at 0x7f621d9c0210>"
            ]
          },
          "metadata": {},
          "execution_count": 23
        }
      ]
    },
    {
      "cell_type": "code",
      "metadata": {
        "colab": {
          "base_uri": "https://localhost:8080/"
        },
        "id": "p249FXZrjnUP",
        "outputId": "031aa2b6-799b-4f3d-abc9-9c7cd6cdc39f"
      },
      "source": [
        "model.evaluate(X_test , y_test)"
      ],
      "execution_count": 24,
      "outputs": [
        {
          "output_type": "stream",
          "name": "stdout",
          "text": [
            "2/2 [==============================] - 0s 11ms/step - loss: 0.0181 - accuracy: 1.0000\n"
          ]
        },
        {
          "output_type": "execute_result",
          "data": {
            "text/plain": [
              "[0.018060291185975075, 1.0]"
            ]
          },
          "metadata": {},
          "execution_count": 24
        }
      ]
    },
    {
      "cell_type": "code",
      "metadata": {
        "colab": {
          "base_uri": "https://localhost:8080/"
        },
        "id": "6W4yGf-Sjpct",
        "outputId": "99bdc357-09e6-4e0d-9dba-88da2a2a334e"
      },
      "source": [
        "model.evaluate(X_val , y_val)"
      ],
      "execution_count": 25,
      "outputs": [
        {
          "output_type": "stream",
          "name": "stdout",
          "text": [
            "2/2 [==============================] - 0s 6ms/step - loss: 0.0229 - accuracy: 1.0000\n"
          ]
        },
        {
          "output_type": "execute_result",
          "data": {
            "text/plain": [
              "[0.022945502772927284, 1.0]"
            ]
          },
          "metadata": {},
          "execution_count": 25
        }
      ]
    },
    {
      "cell_type": "code",
      "metadata": {
        "colab": {
          "base_uri": "https://localhost:8080/"
        },
        "id": "q_kuHYgGjsAj",
        "outputId": "0cf464f3-363b-4ad0-ec73-e1aca358dcfd"
      },
      "source": [
        "for i in range(30):\n",
        "  sample = X_test[i]\n",
        "  sample = np.reshape(sample, (1,30))\n",
        "\n",
        "  if (model.predict(sample)[0][0] > 0.5):\n",
        "    print(\"-Benign\")\n",
        "  else:\n",
        "    print(\"-Malignant\")\n",
        "\n",
        "  if (y_test[i] == 1):\n",
        "    print(\"*Banign\")\n",
        "  else:\n",
        "    print(\"*Melignant\")\n",
        "  print(\"-----------\")"
      ],
      "execution_count": 26,
      "outputs": [
        {
          "output_type": "stream",
          "name": "stdout",
          "text": [
            "-Malignant\n",
            "*Melignant\n",
            "-----------\n",
            "-Malignant\n",
            "*Melignant\n",
            "-----------\n",
            "-Malignant\n",
            "*Melignant\n",
            "-----------\n",
            "-Malignant\n",
            "*Melignant\n",
            "-----------\n",
            "-Benign\n",
            "*Banign\n",
            "-----------\n",
            "-Benign\n",
            "*Banign\n",
            "-----------\n",
            "-Benign\n",
            "*Banign\n",
            "-----------\n",
            "-Malignant\n",
            "*Melignant\n",
            "-----------\n",
            "-Malignant\n",
            "*Melignant\n",
            "-----------\n",
            "-Benign\n",
            "*Banign\n",
            "-----------\n",
            "-Benign\n",
            "*Banign\n",
            "-----------\n",
            "-Malignant\n",
            "*Melignant\n",
            "-----------\n",
            "-Benign\n",
            "*Banign\n",
            "-----------\n",
            "-Benign\n",
            "*Banign\n",
            "-----------\n",
            "-Malignant\n",
            "*Melignant\n",
            "-----------\n",
            "-Malignant\n",
            "*Melignant\n",
            "-----------\n",
            "-Malignant\n",
            "*Melignant\n",
            "-----------\n",
            "-Benign\n",
            "*Banign\n",
            "-----------\n",
            "-Benign\n",
            "*Banign\n",
            "-----------\n",
            "-Benign\n",
            "*Banign\n",
            "-----------\n",
            "-Benign\n",
            "*Banign\n",
            "-----------\n",
            "-Malignant\n",
            "*Melignant\n",
            "-----------\n",
            "-Benign\n",
            "*Banign\n",
            "-----------\n",
            "-Malignant\n",
            "*Melignant\n",
            "-----------\n",
            "-Malignant\n",
            "*Melignant\n",
            "-----------\n",
            "-Benign\n",
            "*Banign\n",
            "-----------\n",
            "-Benign\n",
            "*Banign\n",
            "-----------\n",
            "-Benign\n",
            "*Banign\n",
            "-----------\n",
            "-Malignant\n",
            "*Melignant\n",
            "-----------\n",
            "-Benign\n",
            "*Banign\n",
            "-----------\n"
          ]
        }
      ]
    },
    {
      "cell_type": "code",
      "metadata": {
        "colab": {
          "base_uri": "https://localhost:8080/"
        },
        "id": "U-7Mj19QjwjV",
        "outputId": "db716b86-f5d2-4e06-9df7-df0968055301"
      },
      "source": [
        "t = 0\n",
        "for i in y_val:\n",
        "  if (i == 1):\n",
        "    t += 1\n",
        "\n",
        "print(t)"
      ],
      "execution_count": 27,
      "outputs": [
        {
          "output_type": "stream",
          "name": "stdout",
          "text": [
            "22\n"
          ]
        }
      ]
    },
    {
      "cell_type": "code",
      "metadata": {
        "colab": {
          "base_uri": "https://localhost:8080/"
        },
        "id": "4xrxHY4tj0gT",
        "outputId": "ecaafdde-1b3a-4686-83a6-4fddb44357a5"
      },
      "source": [
        "t = 0\n",
        "for i in y_test:\n",
        "  if (i == 1):\n",
        "    t += 1\n",
        "\n",
        "print(t)"
      ],
      "execution_count": 28,
      "outputs": [
        {
          "output_type": "stream",
          "name": "stdout",
          "text": [
            "17\n"
          ]
        }
      ]
    },
    {
      "cell_type": "code",
      "metadata": {
        "colab": {
          "base_uri": "https://localhost:8080/"
        },
        "id": "lk75KiuTj4Fm",
        "outputId": "4ca77e2a-87c2-4571-e69f-156bb3f7995a"
      },
      "source": [
        "X_test[0] * -.1"
      ],
      "execution_count": 29,
      "outputs": [
        {
          "output_type": "execute_result",
          "data": {
            "text/plain": [
              "array([-0.14606022, -0.1670916 , -0.14800037, -0.14422754,  0.01672588,\n",
              "       -0.12803433, -0.09654859, -0.06967175, -0.0151081 ,  0.00265956,\n",
              "       -0.05436479,  0.11079353, -0.03276809, -0.06123718,  0.06753537,\n",
              "       -0.04304535, -0.01020004,  0.03492596,  0.06189895, -0.00382397,\n",
              "       -0.16319781, -0.08504968, -0.16125692, -0.16391075, -0.08123407,\n",
              "       -0.25746798, -0.16163409, -0.09728848, -0.12477041, -0.15712702])"
            ]
          },
          "metadata": {},
          "execution_count": 29
        }
      ]
    }
  ]
}